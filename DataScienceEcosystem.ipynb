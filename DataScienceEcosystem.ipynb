{
 "cells": [
  {
   "cell_type": "markdown",
   "id": "bbc91794-09da-4108-b768-ca696d816d5c",
   "metadata": {},
   "source": [
    "# Data Science Tools and Ecosystem"
   ]
  },
  {
   "cell_type": "markdown",
   "id": "d60e85f1-d9f0-46ed-95d2-fc67bdc56922",
   "metadata": {},
   "source": [
    "In this notebook, Data Science Tools and Ecosystem are summarized."
   ]
  },
  {
   "cell_type": "markdown",
   "id": "3807dad2-669a-4d12-a431-a21310877e91",
   "metadata": {},
   "source": [
    "### Objectives: "
   ]
  },
  {
   "cell_type": "markdown",
   "id": "9e78eefc-3611-4268-a1d4-74fdc8b76c8c",
   "metadata": {},
   "source": [
    "Some of the popular languages that Data Scientists use are:\n",
    "- python\n",
    "- R\n",
    "- Java\n",
    "- C+"
   ]
  },
  {
   "cell_type": "markdown",
   "id": "c702b062-4eb9-49cc-a657-0a1e62a6eb04",
   "metadata": {},
   "source": [
    "Some of the commonly used libraries used by Data Scientists include:\n",
    "- pandas\n",
    "- ggplot\n",
    "- matplotlib"
   ]
  },
  {
   "cell_type": "markdown",
   "id": "abfab980-1fa1-4476-80c0-88a211359c74",
   "metadata": {},
   "source": [
    "| Data Science Tools |\r\n",
    "| ----------------- |\r\n",
    "| Anaconda          |\r\n",
    "| Jupyter           |\r\n",
    "| PyCharm           |\r\n",
    "\r\n"
   ]
  },
  {
   "cell_type": "markdown",
   "id": "a03d80cc-1c6a-4f60-a525-200f9e8b15e7",
   "metadata": {},
   "source": [
    "### Below are a few examples of evaluating arithmetic expressions in Python"
   ]
  },
  {
   "cell_type": "code",
   "execution_count": 2,
   "id": "b56543e5-1829-43ab-817b-a7b2cbd1c9fb",
   "metadata": {},
   "outputs": [
    {
     "data": {
      "text/plain": [
       "17"
      ]
     },
     "execution_count": 2,
     "metadata": {},
     "output_type": "execute_result"
    }
   ],
   "source": [
    "(3*4)+5 #This a simple arithmetic expression to mutiply then add integers"
   ]
  },
  {
   "cell_type": "code",
   "execution_count": 3,
   "id": "9dbeba6c-6f24-4439-93f3-b966c01c04b7",
   "metadata": {},
   "outputs": [
    {
     "data": {
      "text/plain": [
       "3.3333333333333335"
      ]
     },
     "execution_count": 3,
     "metadata": {},
     "output_type": "execute_result"
    }
   ],
   "source": [
    "200/60 #This will convert 200 minutes to hours by diving by 60"
   ]
  },
  {
   "cell_type": "markdown",
   "id": "e3a95d32-5a39-4b9a-94ff-5e1a3977329f",
   "metadata": {},
   "source": [
    "## Author\n",
    "Clement"
   ]
  },
  {
   "cell_type": "code",
   "execution_count": null,
   "id": "15fb4df1-5dd9-4349-9f48-59c5450efc7c",
   "metadata": {},
   "outputs": [],
   "source": []
  }
 ],
 "metadata": {
  "kernelspec": {
   "display_name": "Python 3 (ipykernel)",
   "language": "python",
   "name": "python3"
  },
  "language_info": {
   "codemirror_mode": {
    "name": "ipython",
    "version": 3
   },
   "file_extension": ".py",
   "mimetype": "text/x-python",
   "name": "python",
   "nbconvert_exporter": "python",
   "pygments_lexer": "ipython3",
   "version": "3.12.4"
  }
 },
 "nbformat": 4,
 "nbformat_minor": 5
}
